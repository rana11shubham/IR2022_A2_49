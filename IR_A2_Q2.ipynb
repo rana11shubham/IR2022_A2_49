{
  "nbformat": 4,
  "nbformat_minor": 0,
  "metadata": {
    "colab": {
      "name": "IR_A2_Q2.ipynb",
      "provenance": []
    },
    "kernelspec": {
      "name": "python3",
      "display_name": "Python 3"
    },
    "language_info": {
      "name": "python"
    }
  },
  "cells": [
    {
      "cell_type": "markdown",
      "source": [
        "**Importing the libraries**"
      ],
      "metadata": {
        "id": "WiT5z6KkjeeB"
      }
    },
    {
      "cell_type": "code",
      "execution_count": null,
      "metadata": {
        "id": "eBtwlU-KmJ82"
      },
      "outputs": [],
      "source": [
        "import pandas as pd\n",
        "import numpy as np\n",
        "import warnings\n",
        "import matplotlib.pyplot as plt\n",
        "warnings.filterwarnings(\"ignore\")\n",
        "import math"
      ]
    },
    {
      "cell_type": "markdown",
      "source": [
        "**Reading the dataset**"
      ],
      "metadata": {
        "id": "TzlXqULuji2G"
      }
    },
    {
      "cell_type": "code",
      "source": [
        "df = pd.read_csv(\"/content/drive/MyDrive/IR assignment/IR-assignment-2-data.txt\", sep=' ', header=None)\n",
        "df.drop(df.columns[[138]], axis = 1, inplace = True)\n",
        "df = df[df[1] == 'qid:4']"
      ],
      "metadata": {
        "id": "apyc2gtzmXgZ"
      },
      "execution_count": null,
      "outputs": []
    },
    {
      "cell_type": "markdown",
      "source": [
        "**Sorting the dataset in decreasing order with respect to relevance**"
      ],
      "metadata": {
        "id": "dFgIZZjzjowe"
      }
    },
    {
      "cell_type": "code",
      "source": [
        "sorted_df = df.sort_values(by=[0], ascending=False, ignore_index=True)"
      ],
      "metadata": {
        "id": "gDZL9IASoUKc"
      },
      "execution_count": null,
      "outputs": []
    },
    {
      "cell_type": "code",
      "source": [
        "df"
      ],
      "metadata": {
        "id": "j1iK7hvTpDVP"
      },
      "execution_count": null,
      "outputs": []
    },
    {
      "cell_type": "code",
      "source": [
        "sorted_df"
      ],
      "metadata": {
        "id": "sd4tbl8RuLbA"
      },
      "execution_count": null,
      "outputs": []
    },
    {
      "cell_type": "markdown",
      "source": [
        "# **PART 1&2:**"
      ],
      "metadata": {
        "id": "rr-ELVwyu_EI"
      }
    },
    {
      "cell_type": "code",
      "source": [
        "# finding MAX DCG\n",
        "\n",
        "maxDCG = 0\n",
        "DCG = 0\n",
        "relevance_dict = {}\n",
        "no_of_files = 1\n",
        "\n",
        "for i in range(sorted_df.shape[0]):\n",
        "  relevance = sorted_df.iloc[i,0]\n",
        "  if(i==0):\n",
        "    maxDCG = sorted_df.iloc[i,0]\n",
        "  else:\n",
        "    maxDCG = maxDCG + relevance/math.log(i+1, 2)\n",
        "\n",
        "  if relevance in relevance_dict:\n",
        "    relevance_dict[relevance] += 1\n",
        "  else:\n",
        "    relevance_dict[relevance] = 1\n",
        "\n",
        "#finding DCG\n",
        "\n",
        "for i in range(df.shape[0]):\n",
        "  relevance = df.iloc[i,0]\n",
        "  if(i==0):\n",
        "    DCG = df.iloc[i,0]\n",
        "  else:\n",
        "    DCG = DCG + relevance / math.log(i+1, 2)\n",
        "\n",
        "\n",
        "print(f'Maximum Discounted Cumulative Gain (MDCG) is: {maxDCG} \\n')\n",
        "print(f'Discounted Cumulative Gain (DCG) is: {DCG} \\n')\n",
        "\n",
        "\n",
        "for r in relevance_dict:\n",
        "  no_of_files = no_of_files * math.factorial(relevance_dict[r])\n",
        "\n",
        "print(f'Number of possible files that could get MAXDCG are: {no_of_files}')\n"
      ],
      "metadata": {
        "colab": {
          "base_uri": "https://localhost:8080/"
        },
        "id": "sQqUu4hUpDne",
        "outputId": "dc2da759-3c55-4878-91d0-db409d8d5166"
      },
      "execution_count": null,
      "outputs": [
        {
          "output_type": "stream",
          "name": "stdout",
          "text": [
            "Maximum Discounted Cumulative Gain (MDCG) is: 20.989750804831445 \n",
            "\n",
            "Discounted Cumulative Gain (MDCG) is: 12.550247459532576 \n",
            "\n",
            "Number of possible files that could get MAXDCG are: 19893497375938370599826047614905329896936840170566570588205180312704857992695193482412686565431050240000000000000000000000\n"
          ]
        }
      ]
    },
    {
      "cell_type": "markdown",
      "source": [
        "# **Part-3**"
      ],
      "metadata": {
        "id": "a7D63PeO7u3p"
      }
    },
    {
      "cell_type": "code",
      "source": [
        "# Computing the total_DCG and DCG\n",
        "total_dcg=DCG/maxDCG\n",
        "print(f'Maximum Discounted Cumulative Gain (MDCG) for whole dataset is: {total_dcg} \\n')\n",
        "top_50=df.iloc[:50]\n",
        "sorted_50_df = top_50.sort_values(by=[0], ascending=False, ignore_index=True)\n",
        "max_DCG50=0\n",
        "DCG50=0\n",
        "for i in range(sorted_50_df.shape[0]):\n",
        "  relevance = sorted_50_df.iloc[i,0]\n",
        "  if(i==0):\n",
        "    max_DCG50 = sorted_50_df.iloc[i,0]\n",
        "  else:\n",
        "    max_DCG50 = max_DCG50 + relevance/math.log(i+1, 2)\n",
        "\n",
        "#finding DCG\n",
        "\n",
        "for i in range(top_50.shape[0]):\n",
        "  relevance = top_50.iloc[i,0]\n",
        "  if(i==0):\n",
        "    DCG50 = top_50.iloc[i,0]\n",
        "  else:\n",
        "    DCG50 = DCG50 + relevance / math.log(i+1, 2)\n",
        "nDCG50=DCG50/max_DCG50\n",
        "print(f'Discounted Cumulative Gain (DCG) for first 50 rows is: {nDCG50} \\n')"
      ],
      "metadata": {
        "colab": {
          "base_uri": "https://localhost:8080/"
        },
        "id": "GBOrHM6P7Xip",
        "outputId": "df3adc08-4c3d-4cd4-c00b-fd7066735777"
      },
      "execution_count": null,
      "outputs": [
        {
          "output_type": "stream",
          "name": "stdout",
          "text": [
            "Maximum Discounted Cumulative Gain (MDCG) for whole dataset is: 0.5979226516897831 \n",
            "\n",
            "Discounted Cumulative Gain (DCG) for first 50 rows is: 0.5253808413557646 \n",
            "\n"
          ]
        }
      ]
    },
    {
      "cell_type": "markdown",
      "source": [
        "# **Part-4**"
      ],
      "metadata": {
        "id": "2I9POauvCfIs"
      }
    },
    {
      "cell_type": "code",
      "source": [
        "#Performing the operation on the 75th feature of the dataset and ploting the precision and recall graph.\n",
        "feature_75=df.iloc[:,76]\n",
        "rel_array=df.iloc[:,0]\n",
        "total_rel=0\n",
        "for i in range(len(rel_array)):\n",
        "  if(rel_array[i]>=1):\n",
        "    total_rel=total_rel+1\n",
        "    rel_array[i]=1\n",
        "rel_dict = dict(zip(feature_75, rel_array))\n",
        "sorted_rel_dict=sorted(rel_dict.items(),reverse=True)\n",
        "precision=[]\n",
        "recall=[]\n",
        "temp_rel=0\n",
        "count=0\n",
        "for k,v in sorted_rel_dict:\n",
        "  count=count+1\n",
        "  if(v==1):\n",
        "    temp_rel=temp_rel+1\n",
        "  pre=temp_rel/count\n",
        "  rec=temp_rel/total_rel\n",
        "  precision.append(pre)\n",
        "  recall.append(rec)\n",
        "plt.figure(figsize=(9,7))\n",
        "plt.plot(recall,precision)\n",
        "plt.xlabel('Recall Values')\n",
        "plt.ylabel('Precision Values')\n",
        "plt.title('Precison-Recall Graph')\n",
        "\n",
        "\n",
        "\n",
        "\n",
        "    \n"
      ],
      "metadata": {
        "colab": {
          "base_uri": "https://localhost:8080/",
          "height": 475
        },
        "id": "ZMxMaxZy9N7l",
        "outputId": "c84e4dad-d20d-4907-8db3-0acdcd81ef9d"
      },
      "execution_count": null,
      "outputs": [
        {
          "output_type": "execute_result",
          "data": {
            "text/plain": [
              "Text(0.5, 1.0, 'Precison-Recall Graph')"
            ]
          },
          "metadata": {},
          "execution_count": 54
        },
        {
          "output_type": "display_data",
          "data": {
            "text/plain": [
              "<Figure size 648x504 with 1 Axes>"
            ],
            "image/png": "[encoded data removed]"
          },
          "metadata": {
            "needs_background": "light"
          }
        }
      ]
    },
    {
      "cell_type": "code",
      "source": [
        ""
      ],
      "metadata": {
        "id": "6H0qzCYu8GPJ"
      },
      "execution_count": null,
      "outputs": []
    }
  ]
}